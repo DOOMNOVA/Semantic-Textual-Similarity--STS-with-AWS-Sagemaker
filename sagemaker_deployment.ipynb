{
 "cells": [
  {
   "cell_type": "markdown",
   "id": "addcb3d6-b6d7-4838-b529-9f0a20643d2a",
   "metadata": {},
   "source": [
    "## Installing relevent modules"
   ]
  },
  {
   "cell_type": "code",
   "execution_count": 1,
   "id": "5b4183ee-bc2f-475c-8c73-8c8315d7dcfa",
   "metadata": {
    "tags": []
   },
   "outputs": [
    {
     "name": "stdout",
     "output_type": "stream",
     "text": [
      "Requirement already satisfied: sagemaker in /home/ec2-user/anaconda3/envs/pytorch_p310/lib/python3.10/site-packages (2.214.0)\n",
      "Requirement already satisfied: attrs<24,>=23.1.0 in /home/ec2-user/anaconda3/envs/pytorch_p310/lib/python3.10/site-packages (from sagemaker) (23.2.0)\n",
      "Requirement already satisfied: boto3<2.0,>=1.33.3 in /home/ec2-user/anaconda3/envs/pytorch_p310/lib/python3.10/site-packages (from sagemaker) (1.34.55)\n",
      "Requirement already satisfied: cloudpickle==2.2.1 in /home/ec2-user/anaconda3/envs/pytorch_p310/lib/python3.10/site-packages (from sagemaker) (2.2.1)\n",
      "Requirement already satisfied: google-pasta in /home/ec2-user/anaconda3/envs/pytorch_p310/lib/python3.10/site-packages (from sagemaker) (0.2.0)\n",
      "Requirement already satisfied: numpy<2.0,>=1.9.0 in /home/ec2-user/anaconda3/envs/pytorch_p310/lib/python3.10/site-packages (from sagemaker) (1.26.3)\n",
      "Requirement already satisfied: protobuf<5.0,>=3.12 in /home/ec2-user/anaconda3/envs/pytorch_p310/lib/python3.10/site-packages (from sagemaker) (4.25.2)\n",
      "Requirement already satisfied: smdebug-rulesconfig==1.0.1 in /home/ec2-user/anaconda3/envs/pytorch_p310/lib/python3.10/site-packages (from sagemaker) (1.0.1)\n",
      "Requirement already satisfied: importlib-metadata<7.0,>=1.4.0 in /home/ec2-user/anaconda3/envs/pytorch_p310/lib/python3.10/site-packages (from sagemaker) (6.11.0)\n",
      "Requirement already satisfied: packaging>=20.0 in /home/ec2-user/anaconda3/envs/pytorch_p310/lib/python3.10/site-packages (from sagemaker) (21.3)\n",
      "Requirement already satisfied: pandas in /home/ec2-user/anaconda3/envs/pytorch_p310/lib/python3.10/site-packages (from sagemaker) (1.5.3)\n",
      "Requirement already satisfied: pathos in /home/ec2-user/anaconda3/envs/pytorch_p310/lib/python3.10/site-packages (from sagemaker) (0.3.2)\n",
      "Requirement already satisfied: schema in /home/ec2-user/anaconda3/envs/pytorch_p310/lib/python3.10/site-packages (from sagemaker) (0.7.5)\n",
      "Requirement already satisfied: PyYAML~=6.0 in /home/ec2-user/anaconda3/envs/pytorch_p310/lib/python3.10/site-packages (from sagemaker) (6.0.1)\n",
      "Requirement already satisfied: jsonschema in /home/ec2-user/anaconda3/envs/pytorch_p310/lib/python3.10/site-packages (from sagemaker) (4.21.1)\n",
      "Requirement already satisfied: platformdirs in /home/ec2-user/anaconda3/envs/pytorch_p310/lib/python3.10/site-packages (from sagemaker) (4.2.0)\n",
      "Requirement already satisfied: tblib<4,>=1.7.0 in /home/ec2-user/anaconda3/envs/pytorch_p310/lib/python3.10/site-packages (from sagemaker) (2.0.0)\n",
      "Requirement already satisfied: urllib3<3.0.0,>=1.26.8 in /home/ec2-user/anaconda3/envs/pytorch_p310/lib/python3.10/site-packages (from sagemaker) (1.26.18)\n",
      "Requirement already satisfied: requests in /home/ec2-user/anaconda3/envs/pytorch_p310/lib/python3.10/site-packages (from sagemaker) (2.31.0)\n",
      "Requirement already satisfied: docker in /home/ec2-user/anaconda3/envs/pytorch_p310/lib/python3.10/site-packages (from sagemaker) (6.1.3)\n",
      "Requirement already satisfied: tqdm in /home/ec2-user/anaconda3/envs/pytorch_p310/lib/python3.10/site-packages (from sagemaker) (4.66.1)\n",
      "Requirement already satisfied: psutil in /home/ec2-user/anaconda3/envs/pytorch_p310/lib/python3.10/site-packages (from sagemaker) (5.9.8)\n",
      "Requirement already satisfied: botocore<1.35.0,>=1.34.55 in /home/ec2-user/anaconda3/envs/pytorch_p310/lib/python3.10/site-packages (from boto3<2.0,>=1.33.3->sagemaker) (1.34.55)\n",
      "Requirement already satisfied: jmespath<2.0.0,>=0.7.1 in /home/ec2-user/anaconda3/envs/pytorch_p310/lib/python3.10/site-packages (from boto3<2.0,>=1.33.3->sagemaker) (1.0.1)\n",
      "Requirement already satisfied: s3transfer<0.11.0,>=0.10.0 in /home/ec2-user/anaconda3/envs/pytorch_p310/lib/python3.10/site-packages (from boto3<2.0,>=1.33.3->sagemaker) (0.10.0)\n",
      "Requirement already satisfied: zipp>=0.5 in /home/ec2-user/anaconda3/envs/pytorch_p310/lib/python3.10/site-packages (from importlib-metadata<7.0,>=1.4.0->sagemaker) (3.17.0)\n",
      "Requirement already satisfied: pyparsing!=3.0.5,>=2.0.2 in /home/ec2-user/anaconda3/envs/pytorch_p310/lib/python3.10/site-packages (from packaging>=20.0->sagemaker) (3.1.1)\n",
      "Requirement already satisfied: websocket-client>=0.32.0 in /home/ec2-user/anaconda3/envs/pytorch_p310/lib/python3.10/site-packages (from docker->sagemaker) (1.7.0)\n",
      "Requirement already satisfied: charset-normalizer<4,>=2 in /home/ec2-user/anaconda3/envs/pytorch_p310/lib/python3.10/site-packages (from requests->sagemaker) (3.3.2)\n",
      "Requirement already satisfied: idna<4,>=2.5 in /home/ec2-user/anaconda3/envs/pytorch_p310/lib/python3.10/site-packages (from requests->sagemaker) (3.6)\n",
      "Requirement already satisfied: certifi>=2017.4.17 in /home/ec2-user/anaconda3/envs/pytorch_p310/lib/python3.10/site-packages (from requests->sagemaker) (2023.11.17)\n",
      "Requirement already satisfied: six in /home/ec2-user/anaconda3/envs/pytorch_p310/lib/python3.10/site-packages (from google-pasta->sagemaker) (1.16.0)\n",
      "Requirement already satisfied: jsonschema-specifications>=2023.03.6 in /home/ec2-user/anaconda3/envs/pytorch_p310/lib/python3.10/site-packages (from jsonschema->sagemaker) (2023.12.1)\n",
      "Requirement already satisfied: referencing>=0.28.4 in /home/ec2-user/anaconda3/envs/pytorch_p310/lib/python3.10/site-packages (from jsonschema->sagemaker) (0.33.0)\n",
      "Requirement already satisfied: rpds-py>=0.7.1 in /home/ec2-user/anaconda3/envs/pytorch_p310/lib/python3.10/site-packages (from jsonschema->sagemaker) (0.17.1)\n",
      "Requirement already satisfied: python-dateutil>=2.8.1 in /home/ec2-user/anaconda3/envs/pytorch_p310/lib/python3.10/site-packages (from pandas->sagemaker) (2.8.2)\n",
      "Requirement already satisfied: pytz>=2020.1 in /home/ec2-user/anaconda3/envs/pytorch_p310/lib/python3.10/site-packages (from pandas->sagemaker) (2023.4)\n",
      "Requirement already satisfied: ppft>=1.7.6.8 in /home/ec2-user/anaconda3/envs/pytorch_p310/lib/python3.10/site-packages (from pathos->sagemaker) (1.7.6.8)\n",
      "Requirement already satisfied: dill>=0.3.8 in /home/ec2-user/anaconda3/envs/pytorch_p310/lib/python3.10/site-packages (from pathos->sagemaker) (0.3.8)\n",
      "Requirement already satisfied: pox>=0.3.4 in /home/ec2-user/anaconda3/envs/pytorch_p310/lib/python3.10/site-packages (from pathos->sagemaker) (0.3.4)\n",
      "Requirement already satisfied: multiprocess>=0.70.16 in /home/ec2-user/anaconda3/envs/pytorch_p310/lib/python3.10/site-packages (from pathos->sagemaker) (0.70.16)\n",
      "Requirement already satisfied: contextlib2>=0.5.5 in /home/ec2-user/anaconda3/envs/pytorch_p310/lib/python3.10/site-packages (from schema->sagemaker) (21.6.0)\n",
      "Note: you may need to restart the kernel to use updated packages.\n",
      "sagemaker.config INFO - Not applying SDK defaults from location: /etc/xdg/sagemaker/config.yaml\n",
      "sagemaker.config INFO - Not applying SDK defaults from location: /home/ec2-user/.config/sagemaker/config.yaml\n"
     ]
    }
   ],
   "source": [
    "%pip install sagemaker --upgrade\n",
    "import sagemaker\n"
   ]
  },
  {
   "cell_type": "code",
   "execution_count": null,
   "id": "dfeb84c6-9d46-4cc8-bf93-2d3eaaa3d46a",
   "metadata": {
    "tags": []
   },
   "outputs": [],
   "source": []
  },
  {
   "cell_type": "code",
   "execution_count": 5,
   "id": "818b004d-4443-4b29-9601-17a858d3fe02",
   "metadata": {
    "tags": []
   },
   "outputs": [
    {
     "name": "stdout",
     "output_type": "stream",
     "text": [
      "Loaded plugins: dkms-build-requires, extras_suggestions, kernel-livepatch,\n",
      "              : langpacks, priorities, update-motd, versionlock\n",
      "https://download.docker.com/linux/centos/2/x86_64/stable/repodata/repomd.xml: [Errno 14] HTTPS Error 404 - Not Found\n",
      "Trying other mirror.\n",
      "neuron                                                   | 2.9 kB     00:00     \n",
      "63 packages excluded due to repository priority protections\n",
      "No packages marked for update\n",
      "Installing epel-release\n",
      "Loaded plugins: dkms-build-requires, extras_suggestions, kernel-livepatch,\n",
      "              : langpacks, priorities, update-motd, versionlock\n",
      "Cleaning repos: amzn2-core amzn2extra-docker amzn2extra-epel\n",
      "              : amzn2extra-kernel-5.10 amzn2extra-livepatch amzn2extra-python3.8\n",
      "              : centos-extras\n",
      "              : copr:copr.fedorainfracloud.org:vbatts:shadow-utils-newxidmap\n",
      "              : docker-ce-stable github_git-lfs github_git-lfs-source\n",
      "              : libnvidia-container neuron\n",
      "57 metadata files removed\n",
      "23 sqlite files removed\n",
      "0 metadata files removed\n",
      "Loaded plugins: dkms-build-requires, extras_suggestions, kernel-livepatch,\n",
      "              : langpacks, priorities, update-motd, versionlock\n",
      "amzn2-core                                               | 3.6 kB     00:00     \n",
      "amzn2extra-docker                                        | 2.9 kB     00:00     \n",
      "amzn2extra-epel                                          | 3.0 kB     00:00     \n",
      "amzn2extra-kernel-5.10                                   | 3.0 kB     00:00     \n",
      "amzn2extra-livepatch                                     | 2.9 kB     00:00     \n",
      "amzn2extra-python3.8                                     | 2.9 kB     00:00     \n",
      "centos-extras                                            | 2.9 kB     00:00     \n",
      "copr:copr.fedorainfracloud.org:vbatts:shadow-utils-newxi | 3.3 kB     00:00     \n",
      "https://download.docker.com/linux/centos/2/x86_64/stable/repodata/repomd.xml: [Errno 14] HTTPS Error 404 - Not Found\n",
      "Trying other mirror.\n",
      "github_git-lfs/x86_64/signature                          |  819 B     00:00     \n",
      "github_git-lfs/x86_64/signature                          |  951 B     00:03 !!! \n",
      "github_git-lfs-source/signature                          |  819 B     00:00     \n",
      "github_git-lfs-source/signature                          |  951 B     00:00 !!! \n",
      "libnvidia-container/x86_64/signature                     |  833 B     00:00     \n",
      "libnvidia-container/x86_64/signature                     | 2.1 kB     00:00 !!! \n",
      "neuron                                                   | 2.9 kB     00:00     \n",
      "(1/17): amzn2-core/2/x86_64/group_gz                       | 2.7 kB   00:00     \n",
      "(2/17): amzn2-core/2/x86_64/updateinfo                     | 830 kB   00:00     \n",
      "(3/17): amzn2extra-epel/2/x86_64/primary_db                | 1.8 kB   00:00     \n",
      "(4/17): amzn2extra-kernel-5.10/2/x86_64/updateinfo         |  53 kB   00:00     \n",
      "(5/17): amzn2extra-docker/2/x86_64/primary_db              | 106 kB   00:00     \n",
      "(6/17): amzn2extra-livepatch/2/x86_64/updateinfo           |  19 kB   00:00     \n",
      "(7/17): amzn2extra-livepatch/2/x86_64/primary_db           |  56 kB   00:00     \n",
      "(8/17): amzn2extra-python3.8/2/x86_64/updateinfo           | 4.4 kB   00:00     \n",
      "(9/17): amzn2extra-docker/2/x86_64/updateinfo              |  15 kB   00:00     \n",
      "(10/17): amzn2extra-python3.8/2/x86_64/primary_db          |  60 kB   00:00     \n",
      "(11/17): amzn2extra-epel/2/x86_64/updateinfo               |   76 B   00:00     \n",
      "(12/17): amzn2extra-kernel-5.10/2/x86_64/primary_db        |  24 MB   00:00     \n",
      "(13/17): copr:copr.fedorainfracloud.org:vbatts:shadow-util | 6.1 kB   00:00     \n",
      "(14/17): centos-extras/primary_db                          | 254 kB   00:00     \n",
      "(15/17): neuron/primary_db                                 | 158 kB   00:00     \n",
      "(16/17): libnvidia-container/x86_64/primary                |  32 kB   00:00     \n",
      "(17/17): amzn2-core/2/x86_64/primary_db                    |  72 MB   00:00     \n",
      "(1/2): github_git-lfs-source/primary                       |  175 B   00:00     \n",
      "(2/2): github_git-lfs/x86_64/primary                       |  175 B   00:00     \n",
      "libnvidia-container                                                     211/211\n",
      "64 packages excluded due to repository priority protections\n",
      "Resolving Dependencies\n",
      "There are unfinished transactions remaining. You might consider running yum-complete-transaction, or \"yum-complete-transaction --cleanup-only\" and \"yum history redo last\", first to finish them. If those don't work you'll have to try removing/installing packages by hand (maybe package-cleanup can help).\n",
      "--> Running transaction check\n",
      "---> Package epel-release.noarch 0:7-11 will be installed\n",
      "--> Finished Dependency Resolution\n",
      "\n",
      "Dependencies Resolved\n",
      "\n",
      "================================================================================\n",
      " Package              Arch           Version      Repository               Size\n",
      "================================================================================\n",
      "Installing:\n",
      " epel-release         noarch         7-11         amzn2extra-epel          15 k\n",
      "\n",
      "Transaction Summary\n",
      "================================================================================\n",
      "Install  1 Package\n",
      "\n",
      "Total download size: 15 k\n",
      "Installed size: 24 k\n",
      "Downloading packages:\n",
      "epel-release-7-11.noarch.rpm                               |  15 kB   00:00     \n",
      "Running transaction check\n",
      "Running transaction test\n",
      "Transaction test succeeded\n",
      "Running transaction\n",
      "  Installing : epel-release-7-11.noarch                                     1/1 \n",
      "  Verifying  : epel-release-7-11.noarch                                     1/1 \n",
      "\n",
      "Installed:\n",
      "  epel-release.noarch 0:7-11                                                    \n",
      "\n",
      "Complete!\n",
      "  2  httpd_modules            available  \u001b[0m  [ =1.0  =stable ]\n",
      "  3  memcached1.5             available  \u001b[0m  \\\n",
      "        [ =1.5.1  =1.5.16  =1.5.17 ]\n",
      "  9  R3.4                     available  \u001b[0m  [ =3.4.3  =stable ]\n",
      " 10  rust1                    available  \u001b[0m  \\\n",
      "        [ =1.22.1  =1.26.0  =1.26.1  =1.27.2  =1.31.0  =1.38.0\n",
      "          =stable ]\n",
      " 18  libreoffice              available  \u001b[0m  \\\n",
      "        [ =5.0.6.2_15  =5.3.6.1  =stable ]\n",
      " 19  gimp                     available  \u001b[0m  [ =2.8.22 ]\n",
      " 20 †\u001b[94mdocker=latest            enabled    \u001b[0m  \\\n",
      "        [ =17.12.1  =18.03.1  =18.06.1  =18.09.9  =stable ]\n",
      " 21  mate-desktop1.x          available  \u001b[0m  \\\n",
      "        [ =1.19.0  =1.20.0  =stable ]\n",
      " 22  GraphicsMagick1.3        available  \u001b[0m  \\\n",
      "        [ =1.3.29  =1.3.32  =1.3.34  =stable ]\n",
      " 23 †tomcat8.5                available  \u001b[0m  \\\n",
      "        [ =8.5.31  =8.5.32  =8.5.38  =8.5.40  =8.5.42  =8.5.50\n",
      "          =stable ]\n",
      " 24  \u001b[94mepel=latest              enabled    \u001b[0m  [ =7.11  =stable ]\n",
      " 25  testing                  available  \u001b[0m  [ =1.0  =stable ]\n",
      " 26  ecs                      available  \u001b[0m  [ =stable ]\n",
      " 27 †corretto8                available  \u001b[0m  \\\n",
      "        [ =1.8.0_192  =1.8.0_202  =1.8.0_212  =1.8.0_222  =1.8.0_232\n",
      "          =1.8.0_242  =stable ]\n",
      " 32  lustre2.10               available  \u001b[0m  \\\n",
      "        [ =2.10.5  =2.10.8  =stable ]\n",
      " 33 †java-openjdk11           available  \u001b[0m  [ =11  =stable ]\n",
      " 34  lynis                    available  \u001b[0m  [ =stable ]\n",
      " 36  BCC                      available  \u001b[0m  [ =0.x  =stable ]\n",
      " 37  mono                     available  \u001b[0m  [ =5.x  =stable ]\n",
      " 38  nginx1                   available  \u001b[0m  [ =stable ]\n",
      " 40  mock                     available  \u001b[0m  [ =stable ]\n",
      " 43  \u001b[94mlivepatch=latest         enabled    \u001b[0m  [ =stable ]\n",
      " 44 †\u001b[94mpython3.8=latest         enabled    \u001b[0m  [ =stable ]\n",
      " 45  haproxy2                 available  \u001b[0m  [ =stable ]\n",
      " 46  collectd                 available  \u001b[0m  [ =stable ]\n",
      " 47  aws-nitro-enclaves-cli   available  \u001b[0m  [ =stable ]\n",
      " 48  R4                       available  \u001b[0m  [ =stable ]\n",
      "  _  kernel-5.4               available  \u001b[0m  [ =stable ]\n",
      " 50  selinux-ng               available  \u001b[0m  [ =stable ]\n",
      " 52  tomcat9                  available  \u001b[0m  [ =stable ]\n",
      " 53  unbound1.13              available  \u001b[0m  [ =stable ]\n",
      " 54 †mariadb10.5              available  \u001b[0m  [ =stable ]\n",
      " 55  \u001b[94mkernel-5.10=latest       enabled    \u001b[0m  [ =stable ]\n",
      " 56  redis6                   available  \u001b[0m  [ =stable ]\n",
      " 57 †ruby3.0                  available  \u001b[0m  [ =stable ]\n",
      " 58 †postgresql12             available  \u001b[0m  [ =stable ]\n",
      " 59 †postgresql13             available  \u001b[0m  [ =stable ]\n",
      " 60  mock2                    available  \u001b[0m  [ =stable ]\n",
      " 61  dnsmasq2.85              available  \u001b[0m  [ =stable ]\n",
      " 62  kernel-5.15              available  \u001b[0m  [ =stable ]\n",
      " 63 †postgresql14             available  \u001b[0m  [ =stable ]\n",
      " 64  firefox                  available  \u001b[0m  [ =stable ]\n",
      " 65  lustre                   available  \u001b[0m  [ =stable ]\n",
      " 66 †php8.1                   available  \u001b[0m  [ =stable ]\n",
      " 67  awscli1                  available  \u001b[0m  [ =stable ]\n",
      " 68 †php8.2                   available  \u001b[0m  [ =stable ]\n",
      " 69  dnsmasq                  available  \u001b[0m  [ =stable ]\n",
      " 70  unbound1.17              available  \u001b[0m  [ =stable ]\n",
      " 72  collectd-python3         available  \u001b[0m  [ =stable ]\n",
      "† Note on end-of-support. Use 'info' subcommand.\n",
      "Detected operating system as amzn/2.\n",
      "Checking for curl...\n",
      "Detected curl...\n",
      "Downloading repository file: https://packagecloud.io/install/repositories/github/git-lfs/config_file.repo?os=amzn&dist=2&source=script\n",
      "done.\n",
      "Installing pygpgme to verify GPG signatures...\n",
      "Loaded plugins: dkms-build-requires, extras_suggestions, kernel-livepatch,\n",
      "              : langpacks, priorities, update-motd, versionlock\n",
      "amzn2-core                                               | 3.6 kB     00:00     \n",
      "amzn2extra-docker                                        | 2.9 kB     00:00     \n",
      "amzn2extra-epel                                          | 3.0 kB     00:00     \n",
      "amzn2extra-kernel-5.10                                   | 3.0 kB     00:00     \n",
      "amzn2extra-livepatch                                     | 2.9 kB     00:00     \n",
      "amzn2extra-python3.8                                     | 2.9 kB     00:00     \n",
      "centos-extras                                            | 2.9 kB     00:00     \n",
      "copr:copr.fedorainfracloud.org:vbatts:shadow-utils-newxi | 3.3 kB     00:00     \n",
      "https://download.docker.com/linux/centos/2/x86_64/stable/repodata/repomd.xml: [Errno 14] HTTPS Error 404 - Not Found\n",
      "Trying other mirror.\n",
      "epel/x86_64/metalink                                     |  16 kB     00:00     \n",
      "epel                                                     | 4.7 kB     00:00     \n",
      "github_git-lfs-source/signature                          |  819 B     00:00     \n",
      "github_git-lfs-source/signature                          |  951 B     00:02 !!! \n",
      "libnvidia-container/x86_64/signature                     |  833 B     00:00     \n",
      "libnvidia-container/x86_64/signature                     | 2.1 kB     00:00 !!! \n",
      "neuron                                                   | 2.9 kB     00:00     \n",
      "(1/3): epel/x86_64/group_gz                                | 100 kB   00:00     \n",
      "(2/3): epel/x86_64/primary_db                              | 7.0 MB   00:00     \n",
      "epel/x86_64/updateinfo         FAILED                                          \n",
      "https://mirror.serverion.com/epel/7/x86_64/repodata/ce347321adf5eafc135ab43074e3e4721b3032c7612b5c076badb39ac7c62782-updateinfo.xml.bz2: [Errno 14] HTTPS Error 404 - Not Found\n",
      "Trying other mirror.\n",
      "(3/3): epel/x86_64/updateinfo                              | 1.0 MB   00:00     \n",
      "294 packages excluded due to repository priority protections\n",
      "Package pygpgme-0.3-9.amzn2.0.3.x86_64 already installed and latest version\n",
      "Nothing to do\n",
      "Installing yum-utils...\n",
      "Loaded plugins: dkms-build-requires, extras_suggestions, kernel-livepatch,\n",
      "              : langpacks, priorities, update-motd, versionlock\n",
      "https://download.docker.com/linux/centos/2/x86_64/stable/repodata/repomd.xml: [Errno 14] HTTPS Error 404 - Not Found\n",
      "Trying other mirror.\n",
      "neuron                                                   | 2.9 kB     00:00     \n",
      "294 packages excluded due to repository priority protections\n",
      "Package yum-utils-1.1.31-46.amzn2.0.1.noarch already installed and latest version\n",
      "Nothing to do\n",
      "Generating yum cache for github_git-lfs...\n",
      "Generating yum cache for github_git-lfs-source...\n",
      "\n",
      "The repository is setup! You can now install packages.\n",
      "Loaded plugins: dkms-build-requires, extras_suggestions, kernel-livepatch,\n",
      "              : langpacks, priorities, update-motd, versionlock\n",
      "https://download.docker.com/linux/centos/2/x86_64/stable/repodata/repomd.xml: [Errno 14] HTTPS Error 404 - Not Found\n",
      "Trying other mirror.\n",
      "neuron                                                   | 2.9 kB     00:00     \n",
      "294 packages excluded due to repository priority protections\n",
      "Package git-2.40.1-1.amzn2.0.1.x86_64 already installed and latest version\n",
      "Resolving Dependencies\n",
      "There are unfinished transactions remaining. You might consider running yum-complete-transaction, or \"yum-complete-transaction --cleanup-only\" and \"yum history redo last\", first to finish them. If those don't work you'll have to try removing/installing packages by hand (maybe package-cleanup can help).\n",
      "--> Running transaction check\n",
      "---> Package git-lfs.x86_64 0:2.10.0-2.el7 will be installed\n",
      "--> Finished Dependency Resolution\n",
      "\n",
      "Dependencies Resolved\n",
      "\n",
      "================================================================================\n",
      " Package           Arch             Version                Repository      Size\n",
      "================================================================================\n",
      "Installing:\n",
      " git-lfs           x86_64           2.10.0-2.el7           epel           3.7 M\n",
      "\n",
      "Transaction Summary\n",
      "================================================================================\n",
      "Install  1 Package\n",
      "\n",
      "Total download size: 3.7 M\n",
      "Installed size: 13 M\n",
      "Downloading packages:\n",
      "warning: /var/cache/yum/x86_64/2/epel/packages/git-lfs-2.10.0-2.el7.x86_64.rpm: Header V4 RSA/SHA256 Signature, key ID 352c64e5: NOKEY\n",
      "Public key for git-lfs-2.10.0-2.el7.x86_64.rpm is not installed\n",
      "git-lfs-2.10.0-2.el7.x86_64.rpm                            | 3.7 MB   00:00     \n",
      "Retrieving key from file:///etc/pki/rpm-gpg/RPM-GPG-KEY-EPEL-7\n",
      "Importing GPG key 0x352C64E5:\n",
      " Userid     : \"Fedora EPEL (7) <epel@fedoraproject.org>\"\n",
      " Fingerprint: 91e9 7d7c 4a5e 96f1 7f3e 888f 6a2f aea2 352c 64e5\n",
      " Package    : epel-release-7-11.noarch (@amzn2extra-epel)\n",
      " From       : /etc/pki/rpm-gpg/RPM-GPG-KEY-EPEL-7\n",
      "Running transaction check\n",
      "Running transaction test\n",
      "Transaction test succeeded\n",
      "Running transaction\n",
      "  Installing : git-lfs-2.10.0-2.el7.x86_64                                  1/1 \n",
      "  Verifying  : git-lfs-2.10.0-2.el7.x86_64                                  1/1 \n",
      "\n",
      "Installed:\n",
      "  git-lfs.x86_64 0:2.10.0-2.el7                                                 \n",
      "\n",
      "Complete!\n"
     ]
    }
   ],
   "source": [
    "!sudo yum update -y\n",
    "!sudo amazon-linux-extras install epel -y\n",
    "!curl -s https://packagecloud.io/install/repositories/github/git-lfs/script.rpm.sh | sudo bash\n",
    "!sudo yum install git-lfs git -y"
   ]
  },
  {
   "cell_type": "markdown",
   "id": "fe3206db-713d-4e95-87e3-3987b8d760bc",
   "metadata": {
    "tags": []
   },
   "source": [
    "\n",
    "## Defining IAM permissions"
   ]
  },
  {
   "cell_type": "code",
   "execution_count": 6,
   "id": "ff4db31c-8161-46db-a3ae-a65e2acc378e",
   "metadata": {
    "tags": []
   },
   "outputs": [
    {
     "name": "stdout",
     "output_type": "stream",
     "text": [
      "sagemaker role arn: arn:aws:iam::882095275715:role/service-role/AmazonSageMakerServiceCatalogProductsUseRole\n",
      "sagemaker bucket: sagemaker-eu-north-1-882095275715\n",
      "sagemaker session region: eu-north-1\n"
     ]
    }
   ],
   "source": [
    "\n",
    "#defining permission for sagemaker\n",
    "\n",
    "import boto3\n",
    "sess = sagemaker.Session()\n",
    "# sagemaker session bucket -> used for uploading data, models and logs\n",
    "# sagemaker will automatically create this bucket if it not exists\n",
    "sagemaker_session_bucket=None\n",
    "if sagemaker_session_bucket is None and sess is not None:\n",
    "    # set to default bucket if a bucket name is not given\n",
    "    sagemaker_session_bucket = sess.default_bucket()\n",
    "\n",
    "try:\n",
    "    role = sagemaker.get_execution_role()\n",
    "except ValueError:\n",
    "    iam = boto3.client('iam')\n",
    "    role = iam.get_role(RoleName='sagemaker_execution_role')['Role']['Arn']\n",
    "\n",
    "sess = sagemaker.Session(default_bucket=sagemaker_session_bucket)\n",
    "\n",
    "print(f\"sagemaker role arn: {role}\")\n",
    "print(f\"sagemaker bucket: {sess.default_bucket()}\")\n",
    "print(f\"sagemaker session region: {sess.boto_region_name}\")\n"
   ]
  },
  {
   "cell_type": "code",
   "execution_count": 7,
   "id": "8c40a3f7-4470-4f4c-ab6f-e750a16e1c18",
   "metadata": {
    "tags": []
   },
   "outputs": [],
   "source": [
    "#rm -r code"
   ]
  },
  {
   "cell_type": "code",
   "execution_count": 8,
   "id": "afc3250b-b609-44aa-89e9-7bc028deaaeb",
   "metadata": {
    "tags": []
   },
   "outputs": [],
   "source": [
    "#making a new directory for the inference codes\n",
    "!mkdir code\n",
    "\n"
   ]
  },
  {
   "cell_type": "markdown",
   "id": "fe4cbdd2-d6a1-4600-b192-554caacc2e7e",
   "metadata": {
    "tags": []
   },
   "source": [
    "## Below code creates a inference.py file\""
   ]
  },
  {
   "cell_type": "code",
   "execution_count": 9,
   "id": "bbdb9636-53df-4474-b17a-02eab065529d",
   "metadata": {
    "tags": []
   },
   "outputs": [
    {
     "name": "stdout",
     "output_type": "stream",
     "text": [
      "Writing code/inference.py\n"
     ]
    }
   ],
   "source": [
    "%%writefile code/inference.py\n",
    "\n",
    "import torch\n",
    "import torch.nn.functional as F\n",
    "from sentence_transformers import SentenceTransformer, util\n",
    "from transformers import AutoTokenizer, AutoModel\n",
    "\n",
    "# Helper: Mean Pooling - Take attention mask into account for correct averaging\n",
    "def mean_pooling(model_output, attention_mask):\n",
    "    token_embeddings = model_output[0] #First element of model_output contains all token embeddings\n",
    "    input_mask_expanded = attention_mask.unsqueeze(-1).expand(token_embeddings.size()).float()\n",
    "    return torch.sum(token_embeddings * input_mask_expanded, 1) / torch.clamp(input_mask_expanded.sum(1), min=1e-9)\n",
    "\n",
    "def model_fn(model_dir,context=None):\n",
    "  # Load model from HuggingFace Hub\n",
    "    tokenizer = AutoTokenizer.from_pretrained(model_dir)\n",
    "    model = AutoModel.from_pretrained(model_dir)\n",
    "    return model, tokenizer\n",
    "\n",
    "\n",
    "\n",
    "def predict_fn(data, model_and_tokenizer,context=None):\n",
    "    # Destructure model and tokenizer\n",
    "    model, tokenizer = model_and_tokenizer\n",
    "    \n",
    "    # Tokenize sentences\n",
    "    text1 = data[\"text1\"]\n",
    "    text2 = data[\"text2\"]\n",
    "    encoded_input1 = tokenizer(text1, padding=True, truncation=True, return_tensors='pt')\n",
    "    encoded_input2 = tokenizer(text2, padding=True, truncation=True, return_tensors='pt')\n",
    "\n",
    "    # Compute token embeddings\n",
    "    with torch.no_grad():\n",
    "        model_output1 = model(**encoded_input1)\n",
    "        model_output2 = model(**encoded_input2)\n",
    "\n",
    "    # Perform pooling\n",
    "    sentence_embeddings1 = mean_pooling(model_output1, encoded_input1['attention_mask'])\n",
    "    sentence_embeddings2 = mean_pooling(model_output2, encoded_input2['attention_mask'])\n",
    "\n",
    "    # Normalize embeddings\n",
    "    sentence_embeddings1 = F.normalize(sentence_embeddings1, p=2, dim=1)\n",
    "    sentence_embeddings2 = F.normalize(sentence_embeddings2, p=2, dim=1)\n",
    "\n",
    "    # Compute cosine similarity between the embeddings\n",
    "    similarity_score = util.cos_sim(sentence_embeddings1, sentence_embeddings2)\n",
    "    similarity_score_normalized = (similarity_score.item() + 1) / 2\n",
    "    \n",
    "    # Return a dictionary containing the similarity score\n",
    "    return {\"similarity score\": similarity_score_normalized}\n",
    "\n",
    "\n",
    "\n",
    "\n",
    "    \n",
    "              \n",
    "\n",
    "    \n",
    "    "
   ]
  },
  {
   "cell_type": "markdown",
   "id": "59c1e7b8-4dc0-4541-b047-215cfd9471a8",
   "metadata": {
    "tags": []
   },
   "source": [
    "## Sending the model to s3 bucket"
   ]
  },
  {
   "cell_type": "code",
   "execution_count": 10,
   "id": "d50c541e-73cf-4b00-ac5c-a8cdb06a9c41",
   "metadata": {
    "tags": []
   },
   "outputs": [],
   "source": [
    "#defining necessary paths\n",
    "repository = \"doomnova/Finetuned_STS_part_A_final\"\n",
    "model_id = repository.split(\"/\")[-1]\n",
    "s3_location=f\"s3://{sess.default_bucket()}/custom_inference/{model_id}/model.tar.gz\"\n",
    "\n",
    "\n"
   ]
  },
  {
   "cell_type": "code",
   "execution_count": 12,
   "id": "0e6f4aed-3373-41ce-8740-d5d7603187a8",
   "metadata": {
    "tags": []
   },
   "outputs": [],
   "source": [
    "#rm -rf Finetuned_STS_part_A_final"
   ]
  },
  {
   "cell_type": "code",
   "execution_count": 13,
   "id": "416c8450-28b9-4538-89b7-47def0b51bf4",
   "metadata": {
    "tags": []
   },
   "outputs": [
    {
     "name": "stdout",
     "output_type": "stream",
     "text": [
      "Git LFS initialized.\n",
      "Cloning into 'Finetuned_STS_part_A_final'...\n",
      "remote: Enumerating objects: 20, done.\u001b[K\n",
      "remote: Counting objects: 100% (17/17), done.\u001b[K\n",
      "remote: Compressing objects: 100% (15/15), done.\u001b[K\n",
      "remote: Total 20 (delta 1), reused 0 (delta 0), pack-reused 3\u001b[K\n",
      "Unpacking objects: 100% (20/20), 317.11 KiB | 1.47 MiB/s, done.\n"
     ]
    }
   ],
   "source": [
    "#download model A from hugging face\n",
    "!git lfs install\n",
    "!git clone https://huggingface.co/$repository\n"
   ]
  },
  {
   "cell_type": "code",
   "execution_count": null,
   "id": "7206fdfa-545b-48bd-b114-c9f408244f7b",
   "metadata": {
    "tags": []
   },
   "outputs": [],
   "source": []
  },
  {
   "cell_type": "code",
   "execution_count": 15,
   "id": "6a478a5b-6451-40ba-a497-3e9331031316",
   "metadata": {
    "tags": []
   },
   "outputs": [
    {
     "name": "stdout",
     "output_type": "stream",
     "text": [
      "Writing code/requirements.txt\n"
     ]
    }
   ],
   "source": [
    "## requirements file\n",
    "%%writefile code/requirements.txt\n",
    "sentence-transformers==2.5.1"
   ]
  },
  {
   "cell_type": "code",
   "execution_count": 16,
   "id": "1e0703a6-db76-4ed2-844f-5246055139e9",
   "metadata": {
    "tags": []
   },
   "outputs": [],
   "source": [
    "!cp -r code/ $model_id/code/\n"
   ]
  },
  {
   "cell_type": "code",
   "execution_count": 17,
   "id": "1aa97e56-ff9c-4c8e-9158-77679aefafe5",
   "metadata": {
    "tags": []
   },
   "outputs": [
    {
     "name": "stdout",
     "output_type": "stream",
     "text": [
      "/home/ec2-user/SageMaker/Finetuned_STS_part_A_final\n",
      "1_Pooling/\n",
      "1_Pooling/config.json\n",
      "code/\n",
      "code/inference.py\n",
      "code/requirements.txt\n",
      "config.json\n",
      "config_sentence_transformers.json\n",
      "model.safetensors\n",
      "modules.json\n",
      "README.md\n",
      "requirements.txt\n",
      "sentence_bert_config.json\n",
      "special_tokens_map.json\n",
      "tokenizer_config.json\n",
      "tokenizer.json\n",
      "vocab.txt\n"
     ]
    }
   ],
   "source": [
    "#creating the model zip file\n",
    "%cd $model_id\n",
    "!tar zcvf model.tar.gz *\n"
   ]
  },
  {
   "cell_type": "code",
   "execution_count": 18,
   "id": "6a5e50ce-9bae-4912-8f9e-32d9ebe26cc5",
   "metadata": {
    "tags": []
   },
   "outputs": [
    {
     "name": "stdout",
     "output_type": "stream",
     "text": [
      "upload: ./model.tar.gz to s3://sagemaker-eu-north-1-882095275715/custom_inference/Finetuned_STS_part_A_final/model.tar.gz\n"
     ]
    }
   ],
   "source": [
    "\"sending the model zip to s3 bucket\"\n",
    "!aws s3 cp model.tar.gz $s3_location\n"
   ]
  },
  {
   "cell_type": "code",
   "execution_count": 19,
   "id": "7d456343-0568-4f5f-8f22-5c7cb5a1a97e",
   "metadata": {
    "tags": []
   },
   "outputs": [],
   "source": [
    "#creating a custom HuggingfaceModel class\n",
    "\n",
    "from sagemaker.huggingface.model import HuggingFaceModel\n",
    "\n",
    "huggingface_model = HuggingFaceModel(model_data=s3_location,\n",
    "                                     role=role, # iam role with permissions to create an Endpoint\n",
    "                                     transformers_version=\"4.37\", # transformers version used\n",
    "                                     pytorch_version=\"2.1\", # pytorch version used\n",
    "                                     py_version =\"py310\", # python version of the DLC\n",
    "                                     \n",
    "                                   \n",
    "                                     \n",
    "                                     \n",
    "                                    )"
   ]
  },
  {
   "cell_type": "code",
   "execution_count": 20,
   "id": "b0dfbab4-0db5-47a9-a65e-73a5c243c163",
   "metadata": {
    "tags": []
   },
   "outputs": [
    {
     "name": "stdout",
     "output_type": "stream",
     "text": [
      "-----------!"
     ]
    }
   ],
   "source": [
    "#deploying the endpoint\n",
    "predictor = huggingface_model.deploy(initial_instance_count=1,\n",
    "                                     instance_type=\"ml.g4dn.xlarge\",\n",
    "                                     endpoint_name =\"partBSTS\")\n"
   ]
  },
  {
   "cell_type": "code",
   "execution_count": 23,
   "id": "48605c73-eee6-477b-b24b-9b61b0904115",
   "metadata": {
    "tags": []
   },
   "outputs": [
    {
     "data": {
      "text/plain": [
       "{'similarity score': 0.8439590036869049}"
      ]
     },
     "execution_count": 23,
     "metadata": {},
     "output_type": "execute_result"
    }
   ],
   "source": [
    "#testing endpoint\n",
    "data = {\"text1\" : \"The new movie is top\", \"text2\" : \"The new movie is so great\"}\n",
    "\n",
    "#request\n",
    "predictor.predict(data)"
   ]
  },
  {
   "cell_type": "code",
   "execution_count": null,
   "id": "b3db57a1-7d86-4954-a0a4-e259d7d8a13d",
   "metadata": {
    "tags": []
   },
   "outputs": [],
   "source": [
    "#predictor.delete_model()\n",
    "#predictor.delete_endpoint()"
   ]
  },
  {
   "cell_type": "code",
   "execution_count": null,
   "id": "207a642b-65ef-4f5d-ab9f-f9feb8923432",
   "metadata": {},
   "outputs": [],
   "source": []
  }
 ],
 "metadata": {
  "kernelspec": {
   "display_name": "conda_pytorch_p310",
   "language": "python",
   "name": "conda_pytorch_p310"
  },
  "language_info": {
   "codemirror_mode": {
    "name": "ipython",
    "version": 3
   },
   "file_extension": ".py",
   "mimetype": "text/x-python",
   "name": "python",
   "nbconvert_exporter": "python",
   "pygments_lexer": "ipython3",
   "version": "3.10.13"
  }
 },
 "nbformat": 4,
 "nbformat_minor": 5
}

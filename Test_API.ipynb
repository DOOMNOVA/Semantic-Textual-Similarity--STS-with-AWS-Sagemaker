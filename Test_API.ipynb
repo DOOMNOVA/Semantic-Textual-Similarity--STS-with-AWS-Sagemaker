{
  "nbformat": 4,
  "nbformat_minor": 0,
  "metadata": {
    "colab": {
      "provenance": [],
      "authorship_tag": "ABX9TyP5cz6crhmHC1tnTnWP0ZGD",
      "include_colab_link": true
    },
    "kernelspec": {
      "name": "python3",
      "display_name": "Python 3"
    },
    "language_info": {
      "name": "python"
    }
  },
  "cells": [
    {
      "cell_type": "markdown",
      "metadata": {
        "id": "view-in-github",
        "colab_type": "text"
      },
      "source": [
        "<a href=\"https://colab.research.google.com/github/DOOMNOVA/Semantic-Textual-Similarity--STS-with-AWS-Sagemaker/blob/main/Test_API.ipynb\" target=\"_parent\"><img src=\"https://colab.research.google.com/assets/colab-badge.svg\" alt=\"Open In Colab\"/></a>"
      ]
    },
    {
      "cell_type": "code",
      "execution_count": 9,
      "metadata": {
        "id": "MiFhaeYRHkXX"
      },
      "outputs": [],
      "source": [
        "INVOKE_URL = \"https://1gwl3ae1e4.execute-api.eu-north-1.amazonaws.com/SagemakerInvokeEndpointAPIStage/SagemakerInvokeEndpointAPIResource\""
      ]
    },
    {
      "cell_type": "code",
      "source": [
        "import requests\n",
        "\n",
        "input_dict = {\n",
        "  'text1': \"this movie is great\",\n",
        "  'text2' : \"this movie is awesome\"\n",
        "}\n",
        "\n",
        "r = requests.post(url = INVOKE_URL, json = input_dict, headers = {'content-type': 'application/json'})\n",
        "\n",
        "print(r)  # 200 for successfull execution\n",
        "\n",
        "results = r.json()\n",
        "\n",
        "results"
      ],
      "metadata": {
        "colab": {
          "base_uri": "https://localhost:8080/",
          "height": 54
        },
        "id": "bCFHUS4IHqLH",
        "outputId": "dcc77f76-a6fb-4dbb-9687-bd9d5f4661b1"
      },
      "execution_count": 11,
      "outputs": [
        {
          "output_type": "stream",
          "name": "stdout",
          "text": [
            "<Response [200]>\n"
          ]
        },
        {
          "output_type": "execute_result",
          "data": {
            "text/plain": [
              "'{\"similarity score\":0.9353142082691193}'"
            ],
            "application/vnd.google.colaboratory.intrinsic+json": {
              "type": "string"
            }
          },
          "metadata": {},
          "execution_count": 11
        }
      ]
    },
    {
      "cell_type": "code",
      "source": [],
      "metadata": {
        "id": "MFGM1c4UIJ0b"
      },
      "execution_count": null,
      "outputs": []
    }
  ]
}